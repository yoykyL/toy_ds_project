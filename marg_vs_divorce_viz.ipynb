{
 "cells": [
  {
   "cell_type": "code",
   "execution_count": 2,
   "id": "9782077b-5c63-411a-8710-57e953d03d2c",
   "metadata": {
    "tags": []
   },
   "outputs": [
    {
     "name": "stdout",
     "output_type": "stream",
     "text": [
      "Requirement already satisfied: altair in /opt/conda/lib/python3.10/site-packages (4.2.2)\n",
      "Collecting altair\n",
      "  Downloading altair-5.1.2-py3-none-any.whl (516 kB)\n",
      "\u001b[2K     \u001b[90m━━━━━━━━━━━━━━━━━━━━━━━━━━━━━━━━━━━━━━━\u001b[0m \u001b[32m516.2/516.2 kB\u001b[0m \u001b[31m4.2 MB/s\u001b[0m eta \u001b[36m0:00:00\u001b[0ma \u001b[36m0:00:01\u001b[0m\n",
      "\u001b[?25hRequirement already satisfied: jinja2 in /opt/conda/lib/python3.10/site-packages (from altair) (3.1.2)\n",
      "Requirement already satisfied: numpy in /opt/conda/lib/python3.10/site-packages (from altair) (1.23.5)\n",
      "Requirement already satisfied: toolz in /opt/conda/lib/python3.10/site-packages (from altair) (0.12.0)\n",
      "Requirement already satisfied: packaging in /opt/conda/lib/python3.10/site-packages (from altair) (23.0)\n",
      "Requirement already satisfied: pandas>=0.25 in /opt/conda/lib/python3.10/site-packages (from altair) (1.5.3)\n",
      "Requirement already satisfied: jsonschema>=3.0 in /opt/conda/lib/python3.10/site-packages (from altair) (4.17.3)\n",
      "Requirement already satisfied: typing-extensions>=4.0.1 in /opt/conda/lib/python3.10/site-packages (from altair) (4.4.0)\n",
      "Requirement already satisfied: attrs>=17.4.0 in /opt/conda/lib/python3.10/site-packages (from jsonschema>=3.0->altair) (22.2.0)\n",
      "Requirement already satisfied: pyrsistent!=0.17.0,!=0.17.1,!=0.17.2,>=0.14.0 in /opt/conda/lib/python3.10/site-packages (from jsonschema>=3.0->altair) (0.19.3)\n",
      "Requirement already satisfied: python-dateutil>=2.8.1 in /opt/conda/lib/python3.10/site-packages (from pandas>=0.25->altair) (2.8.2)\n",
      "Requirement already satisfied: pytz>=2020.1 in /opt/conda/lib/python3.10/site-packages (from pandas>=0.25->altair) (2022.7.1)\n",
      "Requirement already satisfied: MarkupSafe>=2.0 in /opt/conda/lib/python3.10/site-packages (from jinja2->altair) (2.1.2)\n",
      "Requirement already satisfied: six>=1.5 in /opt/conda/lib/python3.10/site-packages (from python-dateutil>=2.8.1->pandas>=0.25->altair) (1.16.0)\n",
      "Installing collected packages: altair\n",
      "  Attempting uninstall: altair\n",
      "    Found existing installation: altair 4.2.2\n",
      "    Uninstalling altair-4.2.2:\n",
      "      Successfully uninstalled altair-4.2.2\n",
      "Successfully installed altair-5.1.2\n",
      "Note: you may need to restart the kernel to use updated packages.\n"
     ]
    }
   ],
   "source": [
    "pip install -U altair"
   ]
  },
  {
   "cell_type": "code",
   "execution_count": 1,
   "id": "bedf7066-e709-48f4-b9fe-72de31ce4ad1",
   "metadata": {
    "tags": []
   },
   "outputs": [
    {
     "data": {
      "text/html": [
       "\n",
       "<style>\n",
       "  #altair-viz-fc90f813b1894a0490bf2d029d206c4e.vega-embed {\n",
       "    width: 100%;\n",
       "    display: flex;\n",
       "  }\n",
       "\n",
       "  #altair-viz-fc90f813b1894a0490bf2d029d206c4e.vega-embed details,\n",
       "  #altair-viz-fc90f813b1894a0490bf2d029d206c4e.vega-embed details summary {\n",
       "    position: relative;\n",
       "  }\n",
       "</style>\n",
       "<div id=\"altair-viz-fc90f813b1894a0490bf2d029d206c4e\"></div>\n",
       "<script type=\"text/javascript\">\n",
       "  var VEGA_DEBUG = (typeof VEGA_DEBUG == \"undefined\") ? {} : VEGA_DEBUG;\n",
       "  (function(spec, embedOpt){\n",
       "    let outputDiv = document.currentScript.previousElementSibling;\n",
       "    if (outputDiv.id !== \"altair-viz-fc90f813b1894a0490bf2d029d206c4e\") {\n",
       "      outputDiv = document.getElementById(\"altair-viz-fc90f813b1894a0490bf2d029d206c4e\");\n",
       "    }\n",
       "    const paths = {\n",
       "      \"vega\": \"https://cdn.jsdelivr.net/npm/vega@5?noext\",\n",
       "      \"vega-lib\": \"https://cdn.jsdelivr.net/npm/vega-lib?noext\",\n",
       "      \"vega-lite\": \"https://cdn.jsdelivr.net/npm/vega-lite@5.15.1?noext\",\n",
       "      \"vega-embed\": \"https://cdn.jsdelivr.net/npm/vega-embed@6?noext\",\n",
       "    };\n",
       "\n",
       "    function maybeLoadScript(lib, version) {\n",
       "      var key = `${lib.replace(\"-\", \"\")}_version`;\n",
       "      return (VEGA_DEBUG[key] == version) ?\n",
       "        Promise.resolve(paths[lib]) :\n",
       "        new Promise(function(resolve, reject) {\n",
       "          var s = document.createElement('script');\n",
       "          document.getElementsByTagName(\"head\")[0].appendChild(s);\n",
       "          s.async = true;\n",
       "          s.onload = () => {\n",
       "            VEGA_DEBUG[key] = version;\n",
       "            return resolve(paths[lib]);\n",
       "          };\n",
       "          s.onerror = () => reject(`Error loading script: ${paths[lib]}`);\n",
       "          s.src = paths[lib];\n",
       "        });\n",
       "    }\n",
       "\n",
       "    function showError(err) {\n",
       "      outputDiv.innerHTML = `<div class=\"error\" style=\"color:red;\">${err}</div>`;\n",
       "      throw err;\n",
       "    }\n",
       "\n",
       "    function displayChart(vegaEmbed) {\n",
       "      vegaEmbed(outputDiv, spec, embedOpt)\n",
       "        .catch(err => showError(`Javascript Error: ${err.message}<br>This usually means there's a typo in your chart specification. See the javascript console for the full traceback.`));\n",
       "    }\n",
       "\n",
       "    if(typeof define === \"function\" && define.amd) {\n",
       "      requirejs.config({paths});\n",
       "      require([\"vega-embed\"], displayChart, err => showError(`Error loading script: ${err.message}`));\n",
       "    } else {\n",
       "      maybeLoadScript(\"vega\", \"5\")\n",
       "        .then(() => maybeLoadScript(\"vega-lite\", \"5.15.1\"))\n",
       "        .then(() => maybeLoadScript(\"vega-embed\", \"6\"))\n",
       "        .catch(showError)\n",
       "        .then(() => displayChart(vegaEmbed));\n",
       "    }\n",
       "  })({\"config\": {\"view\": {\"continuousWidth\": 300, \"continuousHeight\": 300}}, \"hconcat\": [{\"mark\": {\"type\": \"line\", \"color\": \"steelblue\"}, \"encoding\": {\"x\": {\"field\": \"year\", \"title\": \"Year\", \"type\": \"quantitative\"}, \"y\": {\"field\": \"margarine_consumption\", \"scale\": {\"zero\": false}, \"title\": \"Margarine consumption (lbs per capita)\", \"type\": \"quantitative\"}}, \"height\": 250}, {\"mark\": {\"type\": \"line\", \"color\": \"coral\"}, \"encoding\": {\"x\": {\"field\": \"year\", \"title\": \"Year\", \"type\": \"quantitative\"}, \"y\": {\"field\": \"maine_divorce_rate\", \"scale\": {\"zero\": false}, \"title\": \"Divorce rate in Maine (per 1000\", \"type\": \"quantitative\"}}, \"height\": 250}], \"data\": {\"name\": \"data-de09336ee52942bca3822a378ff98ae1\"}, \"title\": \"Divorce rate in Maine correlates with margarine consumption\", \"$schema\": \"https://vega.github.io/schema/vega-lite/v5.15.1.json\", \"datasets\": {\"data-de09336ee52942bca3822a378ff98ae1\": [{\"margarine_consumption\": 8.2, \"maine_divorce_rate\": 5.0, \"year\": 2000}, {\"margarine_consumption\": 7.0, \"maine_divorce_rate\": 4.7, \"year\": 2001}, {\"margarine_consumption\": 6.5, \"maine_divorce_rate\": 4.6, \"year\": 2002}, {\"margarine_consumption\": 5.3, \"maine_divorce_rate\": 4.4, \"year\": 2003}, {\"margarine_consumption\": 5.2, \"maine_divorce_rate\": 4.3, \"year\": 2004}, {\"margarine_consumption\": 4.0, \"maine_divorce_rate\": 4.1, \"year\": 2005}, {\"margarine_consumption\": 4.6, \"maine_divorce_rate\": 4.2, \"year\": 2006}, {\"margarine_consumption\": 4.5, \"maine_divorce_rate\": 4.2, \"year\": 2007}, {\"margarine_consumption\": 4.2, \"maine_divorce_rate\": 4.2, \"year\": 2008}, {\"margarine_consumption\": 3.7, \"maine_divorce_rate\": 4.1, \"year\": 2009}]}}, {\"mode\": \"vega-lite\"});\n",
       "</script>"
      ],
      "text/plain": [
       "alt.HConcatChart(...)"
      ]
     },
     "execution_count": 1,
     "metadata": {},
     "output_type": "execute_result"
    }
   ],
   "source": [
    "import altair as alt\n",
    "import pandas as pd\n",
    "\n",
    "\n",
    "should_have_bought_butter = pd.DataFrame({\n",
    "    \"margarine_consumption\": [8.2, 7, 6.5, 5.3, 5.2, 4, 4.6, 4.5, 4.2, 3.7],\n",
    "    \"maine_divorce_rate\": [5, 4.7, 4.6, 4.4, 4.3, 4.1, 4.2, 4.2, 4.2, 4.1],\n",
    "    \"year\": [2000, 2001, 2002, 2003, 2004, 2005, 2006, 2007, 2008, 2009]\n",
    "})\n",
    "\n",
    "marg_vs_time = alt.Chart(should_have_bought_butter).mark_line(color=\"steelblue\").encode(\n",
    "    x=alt.X(\"year\").title(\"Year\"),\n",
    "    y=alt.Y(\"margarine_consumption\")\n",
    "        .title(\"Margarine consumption (lbs per capita)\")\n",
    "        .scale(zero=False)\n",
    ").properties(\n",
    "    height=250\n",
    ")\n",
    "\n",
    "\n",
    "divorce_rate_vs_time = marg_vs_time.mark_line(color=\"coral\").encode(\n",
    "    y=alt.Y(\"maine_divorce_rate\")\n",
    "        .title(\"Divorce rate in Maine (per 1000\")\n",
    "        .scale(zero=False)\n",
    ")\n",
    "\n",
    "(marg_vs_time | divorce_rate_vs_time).properties(\n",
    "    title=\"Divorce rate in Maine correlates with margarine consumption\"\n",
    ")"
   ]
  },
  {
   "cell_type": "code",
   "execution_count": null,
   "id": "65e560e3-a4c0-4927-b5b8-5d295b55009a",
   "metadata": {},
   "outputs": [],
   "source": []
  }
 ],
 "metadata": {
  "kernelspec": {
   "display_name": "Python 3 (ipykernel)",
   "language": "python",
   "name": "python3"
  },
  "language_info": {
   "codemirror_mode": {
    "name": "ipython",
    "version": 3
   },
   "file_extension": ".py",
   "mimetype": "text/x-python",
   "name": "python",
   "nbconvert_exporter": "python",
   "pygments_lexer": "ipython3",
   "version": "3.10.8"
  }
 },
 "nbformat": 4,
 "nbformat_minor": 5
}
